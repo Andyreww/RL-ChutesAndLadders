{
  "cells": [
    {
      "cell_type": "markdown",
      "metadata": {
        "id": "a28oxR8ZUIRj"
      },
      "source": [
        "# Solving Hi Ho Cherry O Game using Monte Carlo\n",
        "\n",
        "## Game Description\n",
        "\n",
        "In the game, each player has a bucket.  The goal is to put 10 cherries in your own bucket to win the game.  Each player starts with zero cherries.  On each turn, a player spins a spinner.  The spinner has 7 outcomes\n",
        "\n",
        "- Add 1 cherry\n",
        "- Add 2 cherries\n",
        "- Add 3 cherries\n",
        "- Add 4 cherries\n",
        "- Remove 2 cherries (bird eats them)\n",
        "- Remove 2 cherries (dog eats them)\n",
        "- Remove all cherries (spill the bucket)\n",
        "\n",
        "Our goal is to figure out how many spins it takes on average to reach a full bucket of 10 cherries.\n",
        "\n",
        "\n",
        "## Equations\n",
        "\n",
        "We let $v_i$ represent the value of being in state $i$; that is, with $i$ cherries in the bucket.   The value of state $v_i$ is the expected number of spins needed to reach 10 cherries when starting with $i$ cherries.  So $v_0$ will be the expected number of spins when starting with 0 cherries -- the start state of the game and the answer that we seek.\n",
        "\n",
        "\n"
      ]
    },
    {
      "cell_type": "code",
      "execution_count": 6,
      "metadata": {
        "id": "J83ALCN_UCxo"
      },
      "outputs": [],
      "source": [
        "import numpy as np"
      ]
    },
    {
      "cell_type": "code",
      "execution_count": 7,
      "metadata": {
        "id": "ffkp-NgLUT_E"
      },
      "outputs": [],
      "source": [
        "# Note to reader: In the analysis below, I assumed the dog and bird spinner would remove 3 cherries (not 2)\n",
        "# so the equations and results are slightly different, though the process is the same.\n",
        "\n",
        "#====================================================== \n",
        "def update (s):\n",
        "  '''\n",
        "  Compute next state given state s\n",
        "  s = number of cherries in bucket\n",
        "  '''\n",
        "  spin = np.random.randint(1,8)\n",
        "  if spin <= 4:\n",
        "    return min(10,s+spin)\n",
        "  elif spin <= 6:\n",
        "    return max(0,s-2)\n",
        "  else:\n",
        "    return 0\n",
        "\n",
        "#======================================================\n",
        "def trajectory ():\n",
        "  '''\n",
        "  Simulate one trajectory of experience\n",
        "  Return list of states during trajectory\n",
        "  '''\n",
        "  traj = [0]\n",
        "  s = 0\n",
        "  while ( s < 10):\n",
        "    s = update(s)\n",
        "    traj.append(s)\n",
        "  return traj\n",
        "\n",
        "#======================================================\n",
        "def init ():\n",
        "  totals = np.zeros(11)\n",
        "  count = np.zeros(11)\n",
        "  return totals,count\n",
        "\n",
        "#======================================================\n",
        "def policy_evaluation(totals,count,n):\n",
        "  '''\n",
        "  do n trajectories of learning\n",
        "  and update the v/count arrays\n",
        "  '''\n",
        "  for i in range(n):\n",
        "    t = trajectory()\n",
        "    m = len(t)\n",
        "    for j in range(m):\n",
        "      cost = m-1-j\n",
        "      s = t[j]\n",
        "      count[s] += 1\n",
        "      totals[s] += cost\n",
        "\n",
        "\n",
        "#======================================================\n",
        "def compute_value (totals,count):\n",
        "  v = totals / count\n",
        "  return v"
      ]
    },
    {
      "cell_type": "code",
      "execution_count": 8,
      "metadata": {
        "colab": {
          "base_uri": "https://localhost:8080/"
        },
        "id": "PIAKB5YHXMqO",
        "outputId": "7129e6da-4d67-4c7b-d41f-28ccea5e12c1"
      },
      "outputs": [
        {
          "name": "stdout",
          "output_type": "stream",
          "text": [
            "[0, 2, 0, 0, 0, 3, 0, 4, 5, 7, 10]\n"
          ]
        }
      ],
      "source": [
        "t = trajectory()\n",
        "print(t)"
      ]
    },
    {
      "cell_type": "code",
      "execution_count": 9,
      "metadata": {
        "id": "dpHT1rBlUWp9"
      },
      "outputs": [],
      "source": [
        "totals,counts = init()"
      ]
    },
    {
      "cell_type": "code",
      "execution_count": 10,
      "metadata": {
        "colab": {
          "base_uri": "https://localhost:8080/"
        },
        "id": "_4bM1O4uaD9a",
        "outputId": "a36ef4ff-7f89-48c8-f5b4-14ef379c8046"
      },
      "outputs": [
        {
          "name": "stdout",
          "output_type": "stream",
          "text": [
            "[178984.  37220.  42900.  40602.  42045.  24328.  19929.  15469.   9401.\n",
            "   5951.      0.]\n",
            "[11538.  2501.  2950.  3046.  3417.  2215.  2079.  1853.  1370.  1075.\n",
            "  2000.]\n",
            "[15.51256717 14.88204718 14.54237288 13.32961261 12.3046532  10.98329571\n",
            "  9.58585859  8.34808419  6.8620438   5.53581395  0.        ]\n"
          ]
        }
      ],
      "source": [
        "policy_evaluation(totals,counts,2000)\n",
        "print(totals)\n",
        "print(counts)\n",
        ","
      ]
    }
  ],
  "metadata": {
    "colab": {
      "provenance": []
    },
    "kernelspec": {
      "display_name": "Python 3",
      "name": "python3"
    },
    "language_info": {
      "codemirror_mode": {
        "name": "ipython",
        "version": 3
      },
      "file_extension": ".py",
      "mimetype": "text/x-python",
      "name": "python",
      "nbconvert_exporter": "python",
      "pygments_lexer": "ipython3",
      "version": "3.12.1"
    }
  },
  "nbformat": 4,
  "nbformat_minor": 0
}
